{
 "cells": [
  {
   "cell_type": "markdown",
   "id": "d8ad8517",
   "metadata": {},
   "source": [
    "### Backpropagation"
   ]
  },
  {
   "cell_type": "code",
   "execution_count": 1,
   "id": "20b52527",
   "metadata": {
    "scrolled": true
   },
   "outputs": [
    {
     "data": {
      "text/html": [
       "<img src=\"backpropagation.png\"/>"
      ],
      "text/plain": [
       "<IPython.core.display.Image object>"
      ]
     },
     "execution_count": 1,
     "metadata": {},
     "output_type": "execute_result"
    }
   ],
   "source": [
    "import numpy as np\n",
    "from IPython.display import Image\n",
    "image_path = \"backpropagation.png\"\n",
    "Image(url=image_path)"
   ]
  },
  {
   "cell_type": "code",
   "execution_count": 2,
   "id": "5fa2211f",
   "metadata": {},
   "outputs": [],
   "source": [
    "# Givin parameters\n",
    "# Input\n",
    "x1 = 0.05\n",
    "x2 = 0.10\n",
    "# Bias\n",
    "b1 = 0.35\n",
    "b2 = 0.60\n",
    "# Weights\n",
    "w1 = 0.15\n",
    "w2 = 0.20\n",
    "w3 = 0.25\n",
    "w4 = 0.30\n",
    "w5 = 0.40\n",
    "w6 = 0.45\n",
    "w7 = 0.50\n",
    "w8 = 0.55 \n",
    "# Target output\n",
    "t1 = 0.01\n",
    "t2 = 0.99"
   ]
  },
  {
   "cell_type": "markdown",
   "id": "f64cfcb9",
   "metadata": {},
   "source": [
    "### Forward Pass"
   ]
  },
  {
   "cell_type": "code",
   "execution_count": 3,
   "id": "6a0a5350",
   "metadata": {},
   "outputs": [],
   "source": [
    "# Hidden Layers\n",
    "h1 = x1*w1 + x2*w2 + b1\n",
    "h2 = x1*w3 + x2*w4 + b1\n",
    "# Outputs for Hidden layers\n",
    "def sigmoid(x):\n",
    "    return 1 / (1 + np.exp(-x))\n",
    "outh1 = sigmoid(h1)\n",
    "outh2 = sigmoid(h2)"
   ]
  },
  {
   "cell_type": "code",
   "execution_count": 4,
   "id": "29a48c6d",
   "metadata": {},
   "outputs": [],
   "source": [
    "# Y1 & Y2\n",
    "y1 = outh1*w5 + outh2*w6 + b2\n",
    "y2 = outh1*w7 + outh2*w8 + b2\n",
    "# Outputs for Y\n",
    "outy1 = sigmoid(y1)\n",
    "outy2 = sigmoid(y2)"
   ]
  },
  {
   "cell_type": "code",
   "execution_count": 5,
   "id": "ecc2577e",
   "metadata": {},
   "outputs": [],
   "source": [
    "# Calculate Errors\n",
    "etotal = ((t1-outy1)**2 + (t2-outy2)**2)/2\n",
    "e2 = ((t2-outy2)**2)/2\n",
    "e1 = ((t1-outy1)**2)/2"
   ]
  },
  {
   "cell_type": "markdown",
   "id": "de411fa1",
   "metadata": {},
   "source": [
    "### Backward Pass"
   ]
  },
  {
   "cell_type": "code",
   "execution_count": 6,
   "id": "e5a8aa6c",
   "metadata": {},
   "outputs": [],
   "source": [
    "#for w5\n",
    "#etotal/w5 = etotal/outy1 * outy1/y1 * y1/w5\n",
    "# 1) etotal/outy1\n",
    "etotal_div_outy1 = 2*((t1-outy1)**(2-1))/2*(-1)+0\n",
    "# 2) outy1/y1\n",
    "outy1_div_y1 = outy1*(1-outy1)\n",
    "# 3) y1/w5\n",
    "y1_div_w5 = 1 * outh1 * w5**(1-1)+0+0\n",
    "# 4) etotal/w5\n",
    "etotal_div_w5 = etotal_div_outy1*outy1_div_y1*y1_div_w5"
   ]
  },
  {
   "cell_type": "code",
   "execution_count": 7,
   "id": "79544375",
   "metadata": {},
   "outputs": [],
   "source": [
    "#for w6\n",
    "#etotal/w6 = etotal/outy1 * outy1/y1 * y1/w6\n",
    "# 1) etotal/outy1\n",
    "etotal_div_outy1 = 2*((t1-outy1)**(2-1))/2*(-1)+0\n",
    "# 2) outy1/y1\n",
    "outy1_div_y1 = outy1*(1-outy1)\n",
    "# 3) y1/w5\n",
    "y1_div_w6 = 1 * outh2 * w6**(1-1)+0+0\n",
    "# 4) etotal/w5\n",
    "etotal_div_w6 = etotal_div_outy1*outy1_div_y1*y1_div_w6"
   ]
  },
  {
   "cell_type": "code",
   "execution_count": 8,
   "id": "eea4512f",
   "metadata": {},
   "outputs": [],
   "source": [
    "#for w7\n",
    "#etotal/w7 = etotal/outy2 * outy2/y2 * y2/w7\n",
    "# 1) etotal/outy2\n",
    "etotal_div_outy2 = 2*((t2-outy2)**(2-1))/2*(-1)+0\n",
    "# 2) outy2/y2\n",
    "outy2_div_y2 = outy2*(1-outy2)\n",
    "# 3) y2/w7\n",
    "y2_div_w7 = 1 * outh1 * w7**(1-1)+0+0\n",
    "# 4) etotal/w7\n",
    "etotal_div_w7 = etotal_div_outy2*outy2_div_y2*y2_div_w7"
   ]
  },
  {
   "cell_type": "code",
   "execution_count": 9,
   "id": "d98497d1",
   "metadata": {},
   "outputs": [],
   "source": [
    "#for w8\n",
    "#etotal/w8 = etotal/outy2 * outy2/y2 * y2/w8\n",
    "# 1) etotal/outy2\n",
    "etotal_div_outy2 = 2*((t2-outy2)**(2-1))/2*(-1)+0\n",
    "# 2) outy2/y2\n",
    "outy2_div_y2 = outy2*(1-outy2)\n",
    "# 3) y2/w8\n",
    "y2_div_w8 = 1 * outh2 * w8**(1-1)+0+0\n",
    "# 4) etotal/w8\n",
    "etotal_div_w8 = etotal_div_outy2*outy2_div_y2*y2_div_w8"
   ]
  },
  {
   "cell_type": "code",
   "execution_count": 10,
   "id": "f88e578a",
   "metadata": {},
   "outputs": [],
   "source": [
    "# Then we change weight as n (learning rate)\n",
    "n = 0.5\n",
    "w5_ = w5 - n*(etotal_div_w5)\n",
    "w6_ = w6 - n*(etotal_div_w6)\n",
    "w7_ = w7 - n*(etotal_div_w7)\n",
    "w8_ = w8 - n*(etotal_div_w8)"
   ]
  },
  {
   "cell_type": "markdown",
   "id": "247898fb",
   "metadata": {},
   "source": [
    "### For updating  w1 , w2 , w3 , w4"
   ]
  },
  {
   "cell_type": "code",
   "execution_count": 11,
   "id": "64ce0608",
   "metadata": {},
   "outputs": [],
   "source": [
    "# Now at hidden layer updating w1 , w2 , w3 , w4\n",
    "# For w1\n",
    "# etotal/w1 = etotal/outh1 * outh1/h1 * h1/w1\n",
    "# 1) etotal/outh1\n",
    "# etotal_div_outh1 = e1_div_outh1 + e2_div_outh2 = e1_div_y1 * outy1_div_y1 * y1_div_outh1 + \n",
    "# + e1_div_y1 * outy1_div_y1 * y1_div_outh1\n",
    "etotal_div_outh1 = etotal_div_outy1 * outy1_div_y1 * w5 + etotal_div_outy2 * outy2_div_y2 * w7\n",
    "# 2) outh1/h1\n",
    "outh1_div_h1 = outh1*(1-outh1)\n",
    "# 3) h1/w5 = x1\n",
    "h1_div_w5 = x1 \n",
    "# etotal/w1\n",
    "etotal_div_w1 = etotal_div_outh1 * outh1_div_h1 * h1_div_w5"
   ]
  },
  {
   "cell_type": "code",
   "execution_count": 12,
   "id": "0635d3b7",
   "metadata": {},
   "outputs": [],
   "source": [
    "# For w2\n",
    "# 1) etotal/outh1\n",
    "# etotal_div_outh1 = e1_div_outh1 + e2_div_outh2 = e1_div_y1 * outy1_div_y1 * y1_div_outh1 + \n",
    "# + e1_div_y1 * outy1_div_y1 * y1_div_outh1\n",
    "etotal_div_outh1 = etotal_div_outy1 * outy1_div_y1 * w5 + etotal_div_outy2 * outy2_div_y2 * w7\n",
    "# 2) outh1/h1\n",
    "outh1_div_h1 = outh1*(1-outh1)\n",
    "# 3) h1/w5 = x2\n",
    "h1_div_w5 = x2\n",
    "# etotal/w1\n",
    "etotal_div_w2 = etotal_div_outh1 * outh1_div_h1 * h1_div_w5"
   ]
  },
  {
   "cell_type": "code",
   "execution_count": 13,
   "id": "6ed0a380",
   "metadata": {},
   "outputs": [],
   "source": [
    "# For w3\n",
    "# 1) etotal/outh1\n",
    "# etotal_div_outh1 = e1_div_outh1 + e2_div_outh2 = e1_div_y1 * outy1_div_y1 * y1_div_outh1 + \n",
    "# + e1_div_y1 * outy1_div_y1 * y1_div_outh1\n",
    "etotal_div_outh1 = etotal_div_outy1 * outy1_div_y1 * w6 + etotal_div_outy2 * outy2_div_y2 * w8\n",
    "# 2) outh2/h2\n",
    "outh1_div_h2 = outh2*(1-outh2)\n",
    "# 3) h2/w5 = x1\n",
    "h2_div_w5 = x1\n",
    "# etotal/w1\n",
    "etotal_div_w3 = etotal_div_outh1 * outh1_div_h1 * h2_div_w5"
   ]
  },
  {
   "cell_type": "code",
   "execution_count": 14,
   "id": "f27a6408",
   "metadata": {},
   "outputs": [],
   "source": [
    "# For w4\n",
    "# 1) etotal/outh1\n",
    "# etotal_div_outh1 = e1_div_outh1 + e2_div_outh2 = e1_div_y1 * outy1_div_y1 * y1_div_outh1 + \n",
    "# + e1_div_y1 * outy1_div_y1 * y1_div_outh1\n",
    "etotal_div_outh2 = etotal_div_outy1 * outy1_div_y1 * w6 + etotal_div_outy2 * outy2_div_y2 * w8\n",
    "# 2) outh2/h2\n",
    "outh2_div_h2 = outh2*(1-outh2)\n",
    "# 3) h2/w5 = x2\n",
    "h2_div_w5 = x2\n",
    "# etotal/w4\n",
    "etotal_div_w4 = etotal_div_outh2 * outh2_div_h2 * h2_div_w5"
   ]
  },
  {
   "cell_type": "code",
   "execution_count": 15,
   "id": "7a301f87",
   "metadata": {},
   "outputs": [],
   "source": [
    "# Then we change weight as n (learning rate)\n",
    "n = 0.5\n",
    "w1_ = w1 - n*(etotal_div_w1)\n",
    "w2_ = w2 - n*(etotal_div_w2)\n",
    "w3_ = w3 - n*(etotal_div_w3)\n",
    "w4_ = w4 - n*(etotal_div_w4)"
   ]
  },
  {
   "cell_type": "code",
   "execution_count": 22,
   "id": "d0e24828",
   "metadata": {},
   "outputs": [
    {
     "name": "stdout",
     "output_type": "stream",
     "text": [
      "·Primary condition of weights:\n",
      "------------------------------\n",
      "Primary condition of w1: 0.15\n",
      "Primary condition of w2: 0.2\n",
      "Primary condition of w3: 0.25\n",
      "Primary condition of w4: 0.3\n",
      "Primary condition of w5: 0.4\n",
      "Primary condition of w6: 0.45\n",
      "Primary condition of w7: 0.5\n",
      "Primary condition of w8: 0.55\n",
      "==============================\n",
      "\n",
      "·Last condition of weights:\n",
      "------------------------------\n",
      "Last condition of w1: 0.1498\n",
      "Last condition of w2: 0.1996\n",
      "Last condition of w3: 0.2498\n",
      "Last condition of w4: 0.2995\n",
      "Last condition of w5: 0.3589\n",
      "Last condition of w6: 0.4087\n",
      "Last condition of w7: 0.5113\n",
      "Last condition of w8: 0.5614\n"
     ]
    }
   ],
   "source": [
    "# Let's look at the final state of the weights\n",
    "print('·Primary condition of weights:')\n",
    "print('------------------------------')\n",
    "for i,y in enumerate([w1,w2,w3,w4,w5,w6,w7,w8]):\n",
    "    print(f'Primary condition of w{i+1}:',y)\n",
    "print('==============================\\n')\n",
    "print('·Last condition of weights:')\n",
    "print('------------------------------')\n",
    "for i,y in enumerate([w1_,w2_,w3_,w4_,w5_,w6_,w7_,w8_]):\n",
    "    print(f'Last condition of w{i+1}:',round(y,4))"
   ]
  },
  {
   "cell_type": "markdown",
   "id": "77bd7b02",
   "metadata": {},
   "source": [
    "### The End"
   ]
  }
 ],
 "metadata": {
  "kernelspec": {
   "display_name": "Python 3 (ipykernel)",
   "language": "python",
   "name": "python3"
  },
  "language_info": {
   "codemirror_mode": {
    "name": "ipython",
    "version": 3
   },
   "file_extension": ".py",
   "mimetype": "text/x-python",
   "name": "python",
   "nbconvert_exporter": "python",
   "pygments_lexer": "ipython3",
   "version": "3.10.9"
  }
 },
 "nbformat": 4,
 "nbformat_minor": 5
}
